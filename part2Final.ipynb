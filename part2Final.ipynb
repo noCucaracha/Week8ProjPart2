{
 "cells": [
  {
   "cell_type": "code",
   "execution_count": 125,
   "metadata": {},
   "outputs": [],
   "source": [
    "import pandas as pd\n",
    "import dash\n",
    "from dash import html, dcc\n",
    "from dash.dependencies import Input, Output, State\n",
    "import plotly.graph_objects as go\n",
    "import plotly.express as px\n",
    "from dash import no_update\n",
    "import datetime as dt"
   ]
  },
  {
   "cell_type": "code",
   "execution_count": 126,
   "metadata": {},
   "outputs": [
    {
     "data": {
      "text/plain": [
       "Index(['Date', 'Year', 'Month', 'Recession', 'Consumer_Confidence',\n",
       "       'Seasonality_Weight', 'Price', 'Advertising_Expenditure', 'Competition',\n",
       "       'GDP', 'Growth_Rate', 'unemployment_rate', 'Automobile_Sales',\n",
       "       'Vehicle_Type', 'City'],\n",
       "      dtype='object')"
      ]
     },
     "execution_count": 126,
     "metadata": {},
     "output_type": "execute_result"
    }
   ],
   "source": [
    "URL = \"https://cf-courses-data.s3.us.cloud-object-storage.appdomain.cloud/IBMDeveloperSkillsNetwork-DV0101EN-SkillsNetwork/Data%20Files/historical_automobile_sales.csv\"\n",
    "df=pd.read_csv(URL)\n",
    "df.columns"
   ]
  },
  {
   "cell_type": "code",
   "execution_count": 142,
   "metadata": {},
   "outputs": [
    {
     "data": {
      "text/html": [
       "<div>\n",
       "<style scoped>\n",
       "    .dataframe tbody tr th:only-of-type {\n",
       "        vertical-align: middle;\n",
       "    }\n",
       "\n",
       "    .dataframe tbody tr th {\n",
       "        vertical-align: top;\n",
       "    }\n",
       "\n",
       "    .dataframe thead th {\n",
       "        text-align: right;\n",
       "    }\n",
       "</style>\n",
       "<table border=\"1\" class=\"dataframe\">\n",
       "  <thead>\n",
       "    <tr style=\"text-align: right;\">\n",
       "      <th></th>\n",
       "      <th>Vehicle_Type</th>\n",
       "      <th>Advertising_Expenditure</th>\n",
       "    </tr>\n",
       "  </thead>\n",
       "  <tbody>\n",
       "    <tr>\n",
       "      <th>0</th>\n",
       "      <td>Executivecar</td>\n",
       "      <td>0.129049</td>\n",
       "    </tr>\n",
       "    <tr>\n",
       "      <th>1</th>\n",
       "      <td>Mediumfamilycar</td>\n",
       "      <td>0.315300</td>\n",
       "    </tr>\n",
       "    <tr>\n",
       "      <th>2</th>\n",
       "      <td>Smallfamiliycar</td>\n",
       "      <td>0.222051</td>\n",
       "    </tr>\n",
       "    <tr>\n",
       "      <th>3</th>\n",
       "      <td>Sports</td>\n",
       "      <td>0.189857</td>\n",
       "    </tr>\n",
       "    <tr>\n",
       "      <th>4</th>\n",
       "      <td>Supperminicar</td>\n",
       "      <td>0.143743</td>\n",
       "    </tr>\n",
       "  </tbody>\n",
       "</table>\n",
       "</div>"
      ],
      "text/plain": [
       "      Vehicle_Type  Advertising_Expenditure\n",
       "0     Executivecar                 0.129049\n",
       "1  Mediumfamilycar                 0.315300\n",
       "2  Smallfamiliycar                 0.222051\n",
       "3           Sports                 0.189857\n",
       "4    Supperminicar                 0.143743"
      ]
     },
     "execution_count": 142,
     "metadata": {},
     "output_type": "execute_result"
    }
   ],
   "source": []
  },
  {
   "cell_type": "code",
   "execution_count": 156,
   "metadata": {},
   "outputs": [
    {
     "data": {
      "text/html": [
       "\n",
       "        <iframe\n",
       "            width=\"100%\"\n",
       "            height=\"650\"\n",
       "            src=\"http://127.0.0.1:8050/\"\n",
       "            frameborder=\"0\"\n",
       "            allowfullscreen\n",
       "            \n",
       "        ></iframe>\n",
       "        "
      ],
      "text/plain": [
       "<IPython.lib.display.IFrame at 0x21d6f3d95e0>"
      ]
     },
     "metadata": {},
     "output_type": "display_data"
    }
   ],
   "source": [
    "app = dash.Dash(__name__)\n",
    "app.config.suppress_callback_exceptions = True\n",
    "\n",
    "app.layout = html.Div(id='main', children=[\n",
    "    html.H1('Automobile Sales Statistics Dashboard', className='H1'),\n",
    "    html.Div(id='dropDownDiv', children=[\n",
    "        dcc.Dropdown(id='dropdown-statistics',\n",
    "                     options=[\n",
    "                         {'label': 'Yearly Statistics',\n",
    "                             'value': 'Yearly Statistics'},\n",
    "                         {'label': 'Recession Period Statistics',\n",
    "                             'value': 'Recession Period Statistics'}\n",
    "                     ],\n",
    "                     placeholder='Select a report type', \n",
    "                     value='Select Statistics'\n",
    "                    ),\n",
    "        dcc.Dropdown(id='select-year',\n",
    "                     options=[\n",
    "                         {'label':i,'value':i} for i in range (1980,2024,1)\n",
    "                     ],\n",
    "                     placeholder='Select-year',\n",
    "                     value='Select-year',\n",
    "                    )\n",
    "    ]),\n",
    "    html.Div(id='output-container', className='chart-grid',style={'display': 'flex'})\n",
    "]\n",
    ")\n",
    "\n",
    "\n",
    "\n",
    "@app.callback(\n",
    "    Output(component_id='select-year',component_property='disabled'),\n",
    "    Input(component_id='dropdown-statistics',component_property='value')\n",
    ")\n",
    "\n",
    "def update_input_container(recessionType):\n",
    "    match recessionType:\n",
    "        case 'Yearly Statistics': return 0\n",
    "        case 'Recession Period Statistics': return 1\n",
    "\n",
    "@app.callback(Output(component_id='output-container',component_property='children'),\n",
    "              [Input(component_id='dropdown-statistics',component_property='value'),\n",
    "               Input(component_id='select-year',component_property='value')])\n",
    "\n",
    "def update_output_container(recessionType,year):\n",
    "    data=df\n",
    "    match recessionType:\n",
    "        case 'Yearly Statistics': \n",
    "            data=df[df['Recession']==0]\n",
    "\n",
    "        case 'Recession Period Statistics': \n",
    "            data = df[df['Recession'] == 1]\n",
    "\n",
    "    #year_data=data[data['Year']==year]\n",
    "    return html.Div(plot1(data)+plot2(data)+plot3(data)+plot4(data), id='wrapper')\n",
    "   \n",
    "\n",
    "\n",
    "\n",
    "    \n",
    "def plot1(data):\n",
    "    annualMean = data.groupby('Year')['Automobile_Sales'].mean().reset_index()\n",
    "    R_chart1 = dcc.Graph(\n",
    "        figure=px.line(\n",
    "            annualMean, x='Year', y='Automobile_Sales',\n",
    "            title='Automobile Sales During Recession Period')\n",
    "    )\n",
    "    return [html.Div(R_chart1,className='grids')]\n",
    "   \n",
    "def plot2(data):\n",
    "    avgSalesCount = data.groupby('Vehicle_Type')['Automobile_Sales'].mean().reset_index()\n",
    "    R_chart2 = dcc.Graph(\n",
    "        figure=px.bar(avgSalesCount,\n",
    "                      x='Vehicle_Type',\n",
    "                      y='Automobile_Sales',\n",
    "                      title='Average Sales by Vehicle Type')\n",
    "    )\n",
    "    return [html.Div(R_chart2, className='grids')]\n",
    "\n",
    "def plot3(data):\n",
    "    expShare = data.groupby('Vehicle_Type')['Advertising_Expenditure'].sum().reset_index()\n",
    "    expShare['Advertising_Expenditure'] = expShare['Advertising_Expenditure']/expShare['Advertising_Expenditure'].sum()\n",
    "    R_chart3 = dcc.Graph(\n",
    "        figure=px.pie(\n",
    "            values=expShare['Advertising_Expenditure'], names=expShare['Vehicle_Type'],\n",
    "            title='Total Expenditure Share by Vehicle Type During Recessions'\n",
    "        )\n",
    "    )\n",
    "    return [html.Div(R_chart3, className='grids')]\n",
    "\n",
    "def plot4(data):\n",
    "    unempData = data.groupby(['Vehicle_Type','unemployment_rate'])['Automobile_Sales'].mean().reset_index()\n",
    "    R_chart4 = dcc.Graph(figure=px.bar(\n",
    "        unempData,\n",
    "        x=unempData['unemployment_rate'],\n",
    "        y=unempData['Automobile_Sales'],\n",
    "        color=unempData['Vehicle_Type'],\n",
    "        labels={'unemployment_rate': 'Unemployment Rate', 'Automobile_Sales': 'Average Automobile Sales'},\n",
    "        title='Effect of Unemployment Rate on Vehicle Type and Sales')\n",
    "    )\n",
    "    return [html.Div(R_chart4, className='grids')]\n",
    "\n",
    "\n",
    "if __name__ == '__main__':\n",
    "    app.run_server()"
   ]
  },
  {
   "cell_type": "code",
   "execution_count": null,
   "metadata": {},
   "outputs": [],
   "source": []
  }
 ],
 "metadata": {
  "kernelspec": {
   "display_name": "Python 3",
   "language": "python",
   "name": "python3"
  },
  "language_info": {
   "codemirror_mode": {
    "name": "ipython",
    "version": 3
   },
   "file_extension": ".py",
   "mimetype": "text/x-python",
   "name": "python",
   "nbconvert_exporter": "python",
   "pygments_lexer": "ipython3",
   "version": "3.12.4"
  }
 },
 "nbformat": 4,
 "nbformat_minor": 2
}
